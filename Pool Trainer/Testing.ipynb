{
  "cells": [
    {
      "cell_type": "code",
      "execution_count": null,
      "metadata": {
        "colab": {
          "base_uri": "https://localhost:8080/"
        },
        "id": "9YLipmkENeWv",
        "outputId": "a44366da-2b55-4817-e1b4-2f21c71c45ec"
      },
      "outputs": [
        {
          "output_type": "stream",
          "name": "stdout",
          "text": [
            "Mounted at /content/drive/\n"
          ]
        }
      ],
      "source": [
        "from google.colab import files\n",
        "import zipfile\n",
        "from google.colab import drive\n",
        "\n",
        "# drive.mount('/content/drive/')\n",
        "drive.mount(\"/content/drive/\", force_remount=True)"
      ]
    },
    {
      "cell_type": "code",
      "execution_count": null,
      "metadata": {
        "id": "VWNUo7q9NmaV"
      },
      "outputs": [],
      "source": [
        "import os\n",
        "import numpy as np\n",
        "import cv2\n",
        "import torchvision.models.segmentation\n",
        "import torch\n",
        "import torchvision.transforms as tf\n",
        "import matplotlib.pyplot as plt\n",
        "Learning_Rate=1e-5\n",
        "width = 900\n",
        "height = 900 # image width and height\n",
        "batchSize=3"
      ]
    },
    {
      "cell_type": "code",
      "execution_count": null,
      "metadata": {
        "id": "j0mmir8HNp9x"
      },
      "outputs": [],
      "source": [
        "TrainFolder = \"/content/drive/MyDrive/Semester 7/Robotics and Computer Vision/Robotics Final Project/LabPicsV1/Simple/Train//\"\n",
        "ListImages=os.listdir(os.path.join(TrainFolder, \"Image\"))"
      ]
    },
    {
      "cell_type": "code",
      "execution_count": null,
      "metadata": {
        "id": "ynOGIFkLNqc9"
      },
      "outputs": [],
      "source": [
        "transformImg=tf.Compose([tf.ToPILImage(),tf.Resize((height,width)),tf.ToTensor(),tf.Normalize((0.485, 0.456, 0.406), (0.229, 0.224, 0.225))])\n",
        "transformAnn=tf.Compose([tf.ToPILImage(),tf.Resize((height,width),tf.InterpolationMode.NEAREST),tf.ToTensor()])"
      ]
    },
    {
      "cell_type": "code",
      "execution_count": null,
      "metadata": {
        "id": "bGUX4eceNvVb"
      },
      "outputs": [],
      "source": [
        "def ReadRandomImage(): # First lets load random image and  the corresponding annotation\n",
        "    idx=np.random.randint(0,len(ListImages)) # Select random image\n",
        "    Img=cv2.imread(os.path.join(TrainFolder, \"Image\", ListImages[idx]))[:,:,0:3]\n",
        "    Filled =  cv2.imread(os.path.join(TrainFolder, \"Semantic/16_Filled\", ListImages[idx].replace(\"jpg\",\"png\")),0)\n",
        "    Vessel =  cv2.imread(os.path.join(TrainFolder, \"Semantic/1_Vessel\", ListImages[idx].replace(\"jpg\",\"png\")),0)\n",
        "    AnnMap = np.zeros(Img.shape[0:2],np.float32)\n",
        "    if Vessel is not None:  AnnMap[ Vessel == 1 ] = 1\n",
        "    if Filled is not None:  AnnMap[ Filled  == 1 ] = 2\n",
        "    Img=transformImg(Img)\n",
        "    AnnMap=transformAnn(AnnMap)\n",
        "    return Img,AnnMap"
      ]
    },
    {
      "cell_type": "code",
      "execution_count": null,
      "metadata": {
        "id": "vkHn0_26NwT6"
      },
      "outputs": [],
      "source": [
        "def LoadBatch(): # Load batch of images\n",
        "    images = torch.zeros([batchSize,3,height,width])\n",
        "    ann = torch.zeros([batchSize, height, width])\n",
        "    for i in range(batchSize):\n",
        "        images[i],ann[i]=ReadRandomImage()\n",
        "    return images, ann"
      ]
    },
    {
      "cell_type": "code",
      "execution_count": null,
      "metadata": {
        "id": "Dq7xdDPxNynK",
        "colab": {
          "base_uri": "https://localhost:8080/",
          "height": 158,
          "referenced_widgets": [
            "5008e47d807b4142bde9548ca60a23a6",
            "8c92bfdc87bc4328a46475305315fa1b",
            "08f340e0e31b439c88b4f1eb7679ad41",
            "43fd06b8f5404c3ea63b960185ebe6a4",
            "3aa2b6fd56154f3d8e5e41b93ed2430a",
            "88e82476eaee4c2a96096d1985463f30",
            "7f1f0dfc744744bf8a8bcdada7e35170",
            "3155b30a6fbe4af3933a67ce4666189c",
            "651d9ef9feab47289637cf96b3039413",
            "696fd6529a9b4be88a074433b5226a0b",
            "616409415e5f41ab88c862db4e4b9f0b"
          ]
        },
        "outputId": "560632d4-9809-4357-f002-70f91d1d38cc"
      },
      "outputs": [
        {
          "output_type": "stream",
          "name": "stderr",
          "text": [
            "/usr/local/lib/python3.8/dist-packages/torchvision/models/_utils.py:208: UserWarning: The parameter 'pretrained' is deprecated since 0.13 and may be removed in the future, please use 'weights' instead.\n",
            "  warnings.warn(\n",
            "/usr/local/lib/python3.8/dist-packages/torchvision/models/_utils.py:223: UserWarning: Arguments other than a weight enum or `None` for 'weights' are deprecated since 0.13 and may be removed in the future. The current behavior is equivalent to passing `weights=DeepLabV3_ResNet50_Weights.COCO_WITH_VOC_LABELS_V1`. You can also use `weights=DeepLabV3_ResNet50_Weights.DEFAULT` to get the most up-to-date weights.\n",
            "  warnings.warn(msg)\n",
            "Downloading: \"https://download.pytorch.org/models/deeplabv3_resnet50_coco-cd0a2569.pth\" to /root/.cache/torch/hub/checkpoints/deeplabv3_resnet50_coco-cd0a2569.pth\n"
          ]
        },
        {
          "output_type": "display_data",
          "data": {
            "text/plain": [
              "  0%|          | 0.00/161M [00:00<?, ?B/s]"
            ],
            "application/vnd.jupyter.widget-view+json": {
              "version_major": 2,
              "version_minor": 0,
              "model_id": "5008e47d807b4142bde9548ca60a23a6"
            }
          },
          "metadata": {}
        }
      ],
      "source": [
        "device = torch.device('cuda') if torch.cuda.is_available() else torch.device('cpu')\n",
        "Net = torchvision.models.segmentation.deeplabv3_resnet50(pretrained=True) # Load net\n",
        "Net.classifier[4] = torch.nn.Conv2d(256, 3, kernel_size=(1, 1), stride=(1, 1)) # Change final layer to 3 classes\n",
        "Net=Net.to(device)\n",
        "optimizer=torch.optim.Adam(params=Net.parameters(),lr=Learning_Rate) # Create adam optimizer"
      ]
    },
    {
      "cell_type": "code",
      "execution_count": null,
      "metadata": {
        "id": "i0kwMqlPN0bS",
        "colab": {
          "base_uri": "https://localhost:8080/"
        },
        "outputId": "b2fbc14b-01b5-46d3-ac01-ae5441f82283"
      },
      "outputs": [
        {
          "output_type": "stream",
          "name": "stdout",
          "text": [
            "0 ) Loss= 1.0496049\n",
            "Saving Model0.torch\n",
            "1 ) Loss= 1.0343045\n",
            "2 ) Loss= 1.0461655\n",
            "3 ) Loss= 1.0248842\n",
            "4 ) Loss= 1.0563486\n",
            "5 ) Loss= 1.030735\n",
            "6 ) Loss= 1.0885108\n",
            "7 ) Loss= 1.0031171\n",
            "8 ) Loss= 1.0117192\n",
            "9 ) Loss= 0.9572755\n",
            "10 ) Loss= 0.99551904\n",
            "11 ) Loss= 0.98815185\n",
            "12 ) Loss= 1.003546\n",
            "13 ) Loss= 0.9942357\n",
            "14 ) Loss= 1.0079284\n",
            "15 ) Loss= 0.9681646\n",
            "16 ) Loss= 0.95045596\n",
            "17 ) Loss= 0.927225\n",
            "18 ) Loss= 1.0096952\n",
            "19 ) Loss= 0.960226\n",
            "20 ) Loss= 0.9756343\n",
            "21 ) Loss= 0.9061643\n",
            "22 ) Loss= 0.92311245\n",
            "23 ) Loss= 0.9632667\n",
            "24 ) Loss= 1.0081809\n",
            "25 ) Loss= 0.9508215\n",
            "26 ) Loss= 0.9063601\n",
            "27 ) Loss= 0.90920043\n",
            "28 ) Loss= 0.9067501\n",
            "29 ) Loss= 0.9083868\n",
            "30 ) Loss= 0.90647614\n",
            "31 ) Loss= 0.91197914\n",
            "32 ) Loss= 0.924464\n",
            "33 ) Loss= 0.8632034\n",
            "34 ) Loss= 0.8758635\n",
            "35 ) Loss= 0.9060454\n",
            "36 ) Loss= 0.8390711\n",
            "37 ) Loss= 0.8544678\n",
            "38 ) Loss= 0.9567294\n",
            "39 ) Loss= 0.95170814\n",
            "40 ) Loss= 0.889328\n",
            "41 ) Loss= 0.87063485\n",
            "42 ) Loss= 0.8893701\n",
            "43 ) Loss= 0.8305523\n",
            "44 ) Loss= 0.7949268\n",
            "45 ) Loss= 0.7829823\n",
            "46 ) Loss= 0.92752385\n",
            "47 ) Loss= 0.8341243\n",
            "48 ) Loss= 0.863511\n",
            "49 ) Loss= 0.90406007\n",
            "50 ) Loss= 0.96695805\n",
            "51 ) Loss= 0.88032377\n",
            "52 ) Loss= 0.87020177\n",
            "53 ) Loss= 0.90987325\n",
            "54 ) Loss= 0.90289515\n",
            "55 ) Loss= 0.82775897\n",
            "56 ) Loss= 0.846102\n",
            "57 ) Loss= 0.85469466\n",
            "58 ) Loss= 0.8651617\n",
            "59 ) Loss= 0.8127165\n",
            "60 ) Loss= 0.86878735\n",
            "61 ) Loss= 0.8889008\n",
            "62 ) Loss= 0.7856591\n",
            "63 ) Loss= 0.7943059\n",
            "64 ) Loss= 0.84025854\n",
            "65 ) Loss= 0.7600343\n",
            "66 ) Loss= 0.75491107\n",
            "67 ) Loss= 0.87743795\n",
            "68 ) Loss= 0.7668259\n",
            "69 ) Loss= 0.80913734\n",
            "70 ) Loss= 0.7459383\n",
            "71 ) Loss= 0.77476007\n",
            "72 ) Loss= 0.8134163\n",
            "73 ) Loss= 0.73582584\n",
            "74 ) Loss= 0.7606545\n",
            "75 ) Loss= 0.7003717\n",
            "76 ) Loss= 0.7726585\n",
            "77 ) Loss= 0.8716729\n",
            "78 ) Loss= 0.7686858\n",
            "79 ) Loss= 0.82850796\n",
            "80 ) Loss= 0.7579001\n",
            "81 ) Loss= 0.80975324\n"
          ]
        }
      ],
      "source": [
        "for itr in range(1000): # Training loop\n",
        "   images,ann=LoadBatch() # Load taining batch\n",
        "   images=torch.autograd.Variable(images,requires_grad=False).to(device) # Load image\n",
        "   ann = torch.autograd.Variable(ann, requires_grad=False).to(device) # Load annotation\n",
        "   Pred=Net(images)['out'] # make prediction\n",
        "   Net.zero_grad()\n",
        "   criterion = torch.nn.CrossEntropyLoss() # Set loss function\n",
        "   Loss=criterion(Pred,ann.long()) # Calculate cross entropy loss\n",
        "   Loss.backward() # Backpropogate loss\n",
        "   optimizer.step() # Apply gradient descent change to weight\n",
        "   seg = torch.argmax(Pred[0], 0).cpu().detach().numpy()  # Get  prediction classes\n",
        "   print(itr,\") Loss=\",Loss.data.cpu().numpy())\n",
        "   if itr % 100 == 0: #Save model weight once every 60k steps permenant file\n",
        "        print(\"Saving Model\" +str(itr) + \".torch\")\n",
        "        torch.save(Net.state_dict(),   str(itr) + \".torch\")"
      ]
    },
    {
      "cell_type": "code",
      "source": [],
      "metadata": {
        "id": "VTk1Fx_-O5Rq"
      },
      "execution_count": null,
      "outputs": []
    }
  ],
  "metadata": {
    "accelerator": "GPU",
    "colab": {
      "provenance": []
    },
    "gpuClass": "standard",
    "kernelspec": {
      "display_name": "Python 3",
      "name": "python3"
    },
    "language_info": {
      "name": "python"
    },
    "widgets": {
      "application/vnd.jupyter.widget-state+json": {
        "5008e47d807b4142bde9548ca60a23a6": {
          "model_module": "@jupyter-widgets/controls",
          "model_name": "HBoxModel",
          "model_module_version": "1.5.0",
          "state": {
            "_dom_classes": [],
            "_model_module": "@jupyter-widgets/controls",
            "_model_module_version": "1.5.0",
            "_model_name": "HBoxModel",
            "_view_count": null,
            "_view_module": "@jupyter-widgets/controls",
            "_view_module_version": "1.5.0",
            "_view_name": "HBoxView",
            "box_style": "",
            "children": [
              "IPY_MODEL_8c92bfdc87bc4328a46475305315fa1b",
              "IPY_MODEL_08f340e0e31b439c88b4f1eb7679ad41",
              "IPY_MODEL_43fd06b8f5404c3ea63b960185ebe6a4"
            ],
            "layout": "IPY_MODEL_3aa2b6fd56154f3d8e5e41b93ed2430a"
          }
        },
        "8c92bfdc87bc4328a46475305315fa1b": {
          "model_module": "@jupyter-widgets/controls",
          "model_name": "HTMLModel",
          "model_module_version": "1.5.0",
          "state": {
            "_dom_classes": [],
            "_model_module": "@jupyter-widgets/controls",
            "_model_module_version": "1.5.0",
            "_model_name": "HTMLModel",
            "_view_count": null,
            "_view_module": "@jupyter-widgets/controls",
            "_view_module_version": "1.5.0",
            "_view_name": "HTMLView",
            "description": "",
            "description_tooltip": null,
            "layout": "IPY_MODEL_88e82476eaee4c2a96096d1985463f30",
            "placeholder": "​",
            "style": "IPY_MODEL_7f1f0dfc744744bf8a8bcdada7e35170",
            "value": "100%"
          }
        },
        "08f340e0e31b439c88b4f1eb7679ad41": {
          "model_module": "@jupyter-widgets/controls",
          "model_name": "FloatProgressModel",
          "model_module_version": "1.5.0",
          "state": {
            "_dom_classes": [],
            "_model_module": "@jupyter-widgets/controls",
            "_model_module_version": "1.5.0",
            "_model_name": "FloatProgressModel",
            "_view_count": null,
            "_view_module": "@jupyter-widgets/controls",
            "_view_module_version": "1.5.0",
            "_view_name": "ProgressView",
            "bar_style": "success",
            "description": "",
            "description_tooltip": null,
            "layout": "IPY_MODEL_3155b30a6fbe4af3933a67ce4666189c",
            "max": 168312152,
            "min": 0,
            "orientation": "horizontal",
            "style": "IPY_MODEL_651d9ef9feab47289637cf96b3039413",
            "value": 168312152
          }
        },
        "43fd06b8f5404c3ea63b960185ebe6a4": {
          "model_module": "@jupyter-widgets/controls",
          "model_name": "HTMLModel",
          "model_module_version": "1.5.0",
          "state": {
            "_dom_classes": [],
            "_model_module": "@jupyter-widgets/controls",
            "_model_module_version": "1.5.0",
            "_model_name": "HTMLModel",
            "_view_count": null,
            "_view_module": "@jupyter-widgets/controls",
            "_view_module_version": "1.5.0",
            "_view_name": "HTMLView",
            "description": "",
            "description_tooltip": null,
            "layout": "IPY_MODEL_696fd6529a9b4be88a074433b5226a0b",
            "placeholder": "​",
            "style": "IPY_MODEL_616409415e5f41ab88c862db4e4b9f0b",
            "value": " 161M/161M [00:05&lt;00:00, 31.6MB/s]"
          }
        },
        "3aa2b6fd56154f3d8e5e41b93ed2430a": {
          "model_module": "@jupyter-widgets/base",
          "model_name": "LayoutModel",
          "model_module_version": "1.2.0",
          "state": {
            "_model_module": "@jupyter-widgets/base",
            "_model_module_version": "1.2.0",
            "_model_name": "LayoutModel",
            "_view_count": null,
            "_view_module": "@jupyter-widgets/base",
            "_view_module_version": "1.2.0",
            "_view_name": "LayoutView",
            "align_content": null,
            "align_items": null,
            "align_self": null,
            "border": null,
            "bottom": null,
            "display": null,
            "flex": null,
            "flex_flow": null,
            "grid_area": null,
            "grid_auto_columns": null,
            "grid_auto_flow": null,
            "grid_auto_rows": null,
            "grid_column": null,
            "grid_gap": null,
            "grid_row": null,
            "grid_template_areas": null,
            "grid_template_columns": null,
            "grid_template_rows": null,
            "height": null,
            "justify_content": null,
            "justify_items": null,
            "left": null,
            "margin": null,
            "max_height": null,
            "max_width": null,
            "min_height": null,
            "min_width": null,
            "object_fit": null,
            "object_position": null,
            "order": null,
            "overflow": null,
            "overflow_x": null,
            "overflow_y": null,
            "padding": null,
            "right": null,
            "top": null,
            "visibility": null,
            "width": null
          }
        },
        "88e82476eaee4c2a96096d1985463f30": {
          "model_module": "@jupyter-widgets/base",
          "model_name": "LayoutModel",
          "model_module_version": "1.2.0",
          "state": {
            "_model_module": "@jupyter-widgets/base",
            "_model_module_version": "1.2.0",
            "_model_name": "LayoutModel",
            "_view_count": null,
            "_view_module": "@jupyter-widgets/base",
            "_view_module_version": "1.2.0",
            "_view_name": "LayoutView",
            "align_content": null,
            "align_items": null,
            "align_self": null,
            "border": null,
            "bottom": null,
            "display": null,
            "flex": null,
            "flex_flow": null,
            "grid_area": null,
            "grid_auto_columns": null,
            "grid_auto_flow": null,
            "grid_auto_rows": null,
            "grid_column": null,
            "grid_gap": null,
            "grid_row": null,
            "grid_template_areas": null,
            "grid_template_columns": null,
            "grid_template_rows": null,
            "height": null,
            "justify_content": null,
            "justify_items": null,
            "left": null,
            "margin": null,
            "max_height": null,
            "max_width": null,
            "min_height": null,
            "min_width": null,
            "object_fit": null,
            "object_position": null,
            "order": null,
            "overflow": null,
            "overflow_x": null,
            "overflow_y": null,
            "padding": null,
            "right": null,
            "top": null,
            "visibility": null,
            "width": null
          }
        },
        "7f1f0dfc744744bf8a8bcdada7e35170": {
          "model_module": "@jupyter-widgets/controls",
          "model_name": "DescriptionStyleModel",
          "model_module_version": "1.5.0",
          "state": {
            "_model_module": "@jupyter-widgets/controls",
            "_model_module_version": "1.5.0",
            "_model_name": "DescriptionStyleModel",
            "_view_count": null,
            "_view_module": "@jupyter-widgets/base",
            "_view_module_version": "1.2.0",
            "_view_name": "StyleView",
            "description_width": ""
          }
        },
        "3155b30a6fbe4af3933a67ce4666189c": {
          "model_module": "@jupyter-widgets/base",
          "model_name": "LayoutModel",
          "model_module_version": "1.2.0",
          "state": {
            "_model_module": "@jupyter-widgets/base",
            "_model_module_version": "1.2.0",
            "_model_name": "LayoutModel",
            "_view_count": null,
            "_view_module": "@jupyter-widgets/base",
            "_view_module_version": "1.2.0",
            "_view_name": "LayoutView",
            "align_content": null,
            "align_items": null,
            "align_self": null,
            "border": null,
            "bottom": null,
            "display": null,
            "flex": null,
            "flex_flow": null,
            "grid_area": null,
            "grid_auto_columns": null,
            "grid_auto_flow": null,
            "grid_auto_rows": null,
            "grid_column": null,
            "grid_gap": null,
            "grid_row": null,
            "grid_template_areas": null,
            "grid_template_columns": null,
            "grid_template_rows": null,
            "height": null,
            "justify_content": null,
            "justify_items": null,
            "left": null,
            "margin": null,
            "max_height": null,
            "max_width": null,
            "min_height": null,
            "min_width": null,
            "object_fit": null,
            "object_position": null,
            "order": null,
            "overflow": null,
            "overflow_x": null,
            "overflow_y": null,
            "padding": null,
            "right": null,
            "top": null,
            "visibility": null,
            "width": null
          }
        },
        "651d9ef9feab47289637cf96b3039413": {
          "model_module": "@jupyter-widgets/controls",
          "model_name": "ProgressStyleModel",
          "model_module_version": "1.5.0",
          "state": {
            "_model_module": "@jupyter-widgets/controls",
            "_model_module_version": "1.5.0",
            "_model_name": "ProgressStyleModel",
            "_view_count": null,
            "_view_module": "@jupyter-widgets/base",
            "_view_module_version": "1.2.0",
            "_view_name": "StyleView",
            "bar_color": null,
            "description_width": ""
          }
        },
        "696fd6529a9b4be88a074433b5226a0b": {
          "model_module": "@jupyter-widgets/base",
          "model_name": "LayoutModel",
          "model_module_version": "1.2.0",
          "state": {
            "_model_module": "@jupyter-widgets/base",
            "_model_module_version": "1.2.0",
            "_model_name": "LayoutModel",
            "_view_count": null,
            "_view_module": "@jupyter-widgets/base",
            "_view_module_version": "1.2.0",
            "_view_name": "LayoutView",
            "align_content": null,
            "align_items": null,
            "align_self": null,
            "border": null,
            "bottom": null,
            "display": null,
            "flex": null,
            "flex_flow": null,
            "grid_area": null,
            "grid_auto_columns": null,
            "grid_auto_flow": null,
            "grid_auto_rows": null,
            "grid_column": null,
            "grid_gap": null,
            "grid_row": null,
            "grid_template_areas": null,
            "grid_template_columns": null,
            "grid_template_rows": null,
            "height": null,
            "justify_content": null,
            "justify_items": null,
            "left": null,
            "margin": null,
            "max_height": null,
            "max_width": null,
            "min_height": null,
            "min_width": null,
            "object_fit": null,
            "object_position": null,
            "order": null,
            "overflow": null,
            "overflow_x": null,
            "overflow_y": null,
            "padding": null,
            "right": null,
            "top": null,
            "visibility": null,
            "width": null
          }
        },
        "616409415e5f41ab88c862db4e4b9f0b": {
          "model_module": "@jupyter-widgets/controls",
          "model_name": "DescriptionStyleModel",
          "model_module_version": "1.5.0",
          "state": {
            "_model_module": "@jupyter-widgets/controls",
            "_model_module_version": "1.5.0",
            "_model_name": "DescriptionStyleModel",
            "_view_count": null,
            "_view_module": "@jupyter-widgets/base",
            "_view_module_version": "1.2.0",
            "_view_name": "StyleView",
            "description_width": ""
          }
        }
      }
    }
  },
  "nbformat": 4,
  "nbformat_minor": 0
}